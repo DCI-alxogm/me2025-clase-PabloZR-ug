{
  "nbformat": 4,
  "nbformat_minor": 0,
  "metadata": {
    "colab": {
      "provenance": [],
      "authorship_tag": "ABX9TyOMudE2S/weCX6Y3vWJdXi7",
      "include_colab_link": true
    },
    "kernelspec": {
      "name": "python3",
      "display_name": "Python 3"
    },
    "language_info": {
      "name": "python"
    }
  },
  "cells": [
    {
      "cell_type": "markdown",
      "metadata": {
        "id": "view-in-github",
        "colab_type": "text"
      },
      "source": [
        "<a href=\"https://colab.research.google.com/github/DCI-alxogm/me2025-clase-PabloZR-ug/blob/main/Semana2/Ago12_Semana2.ipynb\" target=\"_parent\"><img src=\"https://colab.research.google.com/assets/colab-badge.svg\" alt=\"Open In Colab\"/></a>"
      ]
    },
    {
      "cell_type": "code",
      "execution_count": 42,
      "metadata": {
        "id": "K7X6PNYKEgsY"
      },
      "outputs": [],
      "source": [
        "!gcc Ago12_ej1.c -lm -o Ago12_ej1.o"
      ]
    },
    {
      "cell_type": "code",
      "source": [
        "!./Ago12_ej1.o"
      ],
      "metadata": {
        "colab": {
          "base_uri": "https://localhost:8080/"
        },
        "id": "Q68AdD2mNmBx",
        "outputId": "547df8cc-7bf7-4f09-aaf7-e9721a1892e0"
      },
      "execution_count": 43,
      "outputs": [
        {
          "output_type": "stream",
          "name": "stdout",
          "text": [
            "Pi large = 6.283185\n",
            "x = 1 \n",
            " exp(x)+cos(x)=3.258584\n",
            "x\t x^2 \t log(x+1) \t exp(x)+cos(x)\n",
            "1.000000 1.000000 0.301030 3.258584\n",
            "x\t x^2 \t log(x+1) \t exp(x)+cos(x)\n",
            "2.000000 4.000000 0.477121 6.972909\n",
            "x = 3 \n",
            " exp(x)+cos(x)=19.095544\n",
            "x\t x^2 \t log(x+1) \t exp(x)+cos(x)\n",
            "3.000000 9.000000 0.602060 19.095544\n",
            "x\t x^2 \t log(x+1) \t exp(x)+cos(x)\n",
            "4.000000 16.000000 0.698970 53.944506\n",
            "x = 5 \n",
            " exp(x)+cos(x)=148.696821\n",
            "x\t x^2 \t log(x+1) \t exp(x)+cos(x)\n",
            "5.000000 25.000000 0.778151 148.696821\n",
            "x\t x^2 \t log(x+1) \t exp(x)+cos(x)\n",
            "32764.000000 1073479696.000000 4.515410 inf\n",
            "*** stack smashing detected ***: terminated\n"
          ]
        }
      ]
    }
  ]
}