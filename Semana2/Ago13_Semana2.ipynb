{
  "nbformat": 4,
  "nbformat_minor": 0,
  "metadata": {
    "colab": {
      "provenance": [],
      "authorship_tag": "ABX9TyO3jUnH8fLxBMtX0TXcSfaE",
      "include_colab_link": true
    },
    "kernelspec": {
      "name": "python3",
      "display_name": "Python 3"
    },
    "language_info": {
      "name": "python"
    }
  },
  "cells": [
    {
      "cell_type": "markdown",
      "metadata": {
        "id": "view-in-github",
        "colab_type": "text"
      },
      "source": [
        "<a href=\"https://colab.research.google.com/github/DCI-alxogm/me2025-clase-PabloZR-ug/blob/main/Semana2/Ago13_Semana2.ipynb\" target=\"_parent\"><img src=\"https://colab.research.google.com/assets/colab-badge.svg\" alt=\"Open In Colab\"/></a>"
      ]
    },
    {
      "cell_type": "code",
      "execution_count": 10,
      "metadata": {
        "id": "K7X6PNYKEgsY"
      },
      "outputs": [],
      "source": [
        "!gcc operaciones_int.c -lm -o operaciones_int.o"
      ]
    },
    {
      "cell_type": "code",
      "source": [
        "!./operaciones_int.o"
      ],
      "metadata": {
        "colab": {
          "base_uri": "https://localhost:8080/"
        },
        "id": "Q68AdD2mNmBx",
        "outputId": "8b3007ff-f4ad-49db-b219-dd156aee5db1"
      },
      "execution_count": 11,
      "outputs": [
        {
          "output_type": "stream",
          "name": "stdout",
          "text": [
            "Operaciones a realizar: e = (a+b)*c/d \n",
            " 5\n",
            "Operaciones a realizar: e = ((a+b)*c)/d \n",
            " 5\n",
            "Operaciones a realizar: e = (a+b) * c/d \n",
            " 5\n",
            "Operaciones a realizar: e = a + (b*c)/d \n",
            " 5"
          ]
        }
      ]
    },
    {
      "cell_type": "code",
      "source": [
        "!gcc operaciones_float.c -lm -o operaciones_float.o"
      ],
      "metadata": {
        "id": "RwNzljBAan0i"
      },
      "execution_count": 12,
      "outputs": []
    },
    {
      "cell_type": "code",
      "source": [
        "!./operaciones_float.o"
      ],
      "metadata": {
        "colab": {
          "base_uri": "https://localhost:8080/"
        },
        "id": "HzHNV7C7an_L",
        "outputId": "e8017ea0-8f96-4ade-af3a-a4e455f95921"
      },
      "execution_count": 13,
      "outputs": [
        {
          "output_type": "stream",
          "name": "stdout",
          "text": [
            "Operaciones a realizar: e = (a+b)*c/d \n",
            " 5.000000\n",
            "Operaciones a realizar: e = ((a+b)*c)/d \n",
            " 5.000000\n",
            "Operaciones a realizar: e = (a+b) * c/d \n",
            " 5.000000\n",
            "Operaciones a realizar: e = a + (b*c)/d \n",
            " 5.857143"
          ]
        }
      ]
    },
    {
      "cell_type": "markdown",
      "source": [
        "PWD print working directory. En que directorio estoy en la consola\n",
        "ls que archivos hay en ese directorio"
      ],
      "metadata": {
        "id": "lsXGxOKVa5Hb"
      }
    }
  ]
}