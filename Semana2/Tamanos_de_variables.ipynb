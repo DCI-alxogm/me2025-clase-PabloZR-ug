{
  "nbformat": 4,
  "nbformat_minor": 0,
  "metadata": {
    "colab": {
      "provenance": [],
      "authorship_tag": "ABX9TyO0g5TWP+9iCpjveA1ohtl4",
      "include_colab_link": true
    },
    "kernelspec": {
      "name": "python3",
      "display_name": "Python 3"
    },
    "language_info": {
      "name": "python"
    }
  },
  "cells": [
    {
      "cell_type": "markdown",
      "metadata": {
        "id": "view-in-github",
        "colab_type": "text"
      },
      "source": [
        "<a href=\"https://colab.research.google.com/github/DCI-alxogm/me2025-clase-PabloZR-ug/blob/main/Semana2/Tamanos_de_variables.ipynb\" target=\"_parent\"><img src=\"https://colab.research.google.com/assets/colab-badge.svg\" alt=\"Open In Colab\"/></a>"
      ]
    },
    {
      "cell_type": "code",
      "execution_count": 4,
      "metadata": {
        "id": "lZ9hhHRef6nm"
      },
      "outputs": [],
      "source": [
        "!gcc tamanos_de_variables.c -lm -o tamanos_de_variables.o"
      ]
    },
    {
      "cell_type": "code",
      "source": [
        "!./tamanos_de_variables.o"
      ],
      "metadata": {
        "colab": {
          "base_uri": "https://localhost:8080/"
        },
        "id": "HOvPOVB2gLNs",
        "outputId": "94960192-83b6-49fd-a026-9176a666f91f"
      },
      "execution_count": 5,
      "outputs": [
        {
          "output_type": "stream",
          "name": "stdout",
          "text": [
            "UINT_MAX = 4294967295 \n",
            "ShortINT_MAX = 32767 \n",
            "ShortINT_MIN = -32768 \n",
            "INT_MAX = 2147483647 \n",
            "INT_MIN = -2147483648 \n",
            "FLT_MIN      = 1.175494e-38\n",
            "FLT_MAX      = 3.402823e+38\n",
            "DBL_MIN      = 2.225074e-308\n",
            "DBL_MAX      = 1.797693e+308\n",
            "LDBL_MIN      = 3.362103e-4932\n",
            "LDBL_MAX      = 1.189731e+4932\n",
            "FLT_EPSILON  = 1.192093e-07\n",
            "DBL_EPSILON  = 2.220446e-16\n",
            "LBL_EPSILON  = 1.084202e-19\n",
            "FLT_DIG      = 6\n",
            "DBL_DIG      = 15\n",
            "LBDL_DIG      = 18\n",
            "FLT_MANT_DIG = 24\n",
            "DBL_MANT_DIG = 53\n",
            "LDBL_MANT_DIG = 64\n"
          ]
        }
      ]
    }
  ]
}