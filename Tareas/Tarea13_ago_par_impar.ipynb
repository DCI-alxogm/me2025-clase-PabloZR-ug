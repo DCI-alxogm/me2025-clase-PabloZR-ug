{
  "nbformat": 4,
  "nbformat_minor": 0,
  "metadata": {
    "colab": {
      "provenance": [],
      "authorship_tag": "ABX9TyOx91uxPf6mXKeUg3qtroS6",
      "include_colab_link": true
    },
    "kernelspec": {
      "name": "python3",
      "display_name": "Python 3"
    },
    "language_info": {
      "name": "python"
    }
  },
  "cells": [
    {
      "cell_type": "markdown",
      "metadata": {
        "id": "view-in-github",
        "colab_type": "text"
      },
      "source": [
        "<a href=\"https://colab.research.google.com/github/DCI-alxogm/me2025-clase-PabloZR-ug/blob/main/Tareas/Tarea13_ago_par_impar.ipynb\" target=\"_parent\"><img src=\"https://colab.research.google.com/assets/colab-badge.svg\" alt=\"Open In Colab\"/></a>"
      ]
    },
    {
      "cell_type": "code",
      "execution_count": 2,
      "metadata": {
        "id": "ojBiDJaTpsjl"
      },
      "outputs": [],
      "source": [
        "!gcc Tarea13_Agosto_2025.c -lm -o Tarea13_Agosto_2025.o"
      ]
    },
    {
      "cell_type": "code",
      "source": [
        "!./Tarea13_Agosto_2025.o"
      ],
      "metadata": {
        "colab": {
          "base_uri": "https://localhost:8080/"
        },
        "id": "9rpVgrBYraH6",
        "outputId": "1dc68a42-c14e-4852-8848-92973895aa4b"
      },
      "execution_count": 5,
      "outputs": [
        {
          "output_type": "stream",
          "name": "stdout",
          "text": [
            "Ingresa un número: 5\n",
            "El número es impar.\n"
          ]
        }
      ]
    }
  ]
}