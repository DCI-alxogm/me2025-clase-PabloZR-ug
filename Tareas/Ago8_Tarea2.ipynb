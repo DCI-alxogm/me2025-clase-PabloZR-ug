{
  "nbformat": 4,
  "nbformat_minor": 0,
  "metadata": {
    "colab": {
      "provenance": [],
      "authorship_tag": "ABX9TyMJXhJriuZXhsGeZPMnJY7G",
      "include_colab_link": true
    },
    "kernelspec": {
      "name": "python3",
      "display_name": "Python 3"
    },
    "language_info": {
      "name": "python"
    }
  },
  "cells": [
    {
      "cell_type": "markdown",
      "metadata": {
        "id": "view-in-github",
        "colab_type": "text"
      },
      "source": [
        "<a href=\"https://colab.research.google.com/github/DCI-alxogm/me2025-clase-PabloZR-ug/blob/main/Tareas/Ago8_Tarea2.ipynb\" target=\"_parent\"><img src=\"https://colab.research.google.com/assets/colab-badge.svg\" alt=\"Open In Colab\"/></a>"
      ]
    },
    {
      "cell_type": "code",
      "execution_count": null,
      "metadata": {
        "id": "t2XkLM9tGI2z"
      },
      "outputs": [],
      "source": [
        "#include <stdio.h>\n",
        "#include <math.h>\n",
        "\n",
        "int main() {\n",
        "    double numeros[5] = {1.0, 2.0, 3.0, 4.0, 5.0};\n",
        "    for (int i = 0; i < 5; i++) {\n",
        "        double n = numeros[i];\n",
        "        printf(\"Numero: %.2f\\n\", n);\n",
        "        printf(\"Cuadrado: %.2f\\n\", n * n);\n",
        "        printf(\"Log(n+1): %.2f\\n\", log(n + 1));\n",
        "        printf(\"Exponencial: %.2f\\n\", exp(n));\n",
        "        printf(\"Coseno: %.2f\\n\\n\", cos(n));\n",
        "    }\n",
        "    return 0;\n",
        "}\n"
      ]
    }
  ]
}