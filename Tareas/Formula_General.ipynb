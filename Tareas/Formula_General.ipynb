{
  "nbformat": 4,
  "nbformat_minor": 0,
  "metadata": {
    "colab": {
      "provenance": [],
      "authorship_tag": "ABX9TyOYCE/qNzQhCZKiXHDlZHnw",
      "include_colab_link": true
    },
    "kernelspec": {
      "name": "python3",
      "display_name": "Python 3"
    },
    "language_info": {
      "name": "python"
    }
  },
  "cells": [
    {
      "cell_type": "markdown",
      "metadata": {
        "id": "view-in-github",
        "colab_type": "text"
      },
      "source": [
        "<a href=\"https://colab.research.google.com/github/DCI-alxogm/me2025-clase-PabloZR-ug/blob/main/Tareas/Formula_General.ipynb\" target=\"_parent\"><img src=\"https://colab.research.google.com/assets/colab-badge.svg\" alt=\"Open In Colab\"/></a>"
      ]
    },
    {
      "cell_type": "code",
      "execution_count": 3,
      "metadata": {
        "id": "G-pEBznsLtUm"
      },
      "outputs": [],
      "source": [
        "!gcc formula_general1.c -lm -o formula_general1.o"
      ]
    },
    {
      "cell_type": "code",
      "source": [
        "!./formula_general1.o"
      ],
      "metadata": {
        "colab": {
          "base_uri": "https://localhost:8080/"
        },
        "id": "VTyN_6hUMhSQ",
        "outputId": "69282cea-d4c1-4ef2-8220-96fca6b3f537"
      },
      "execution_count": 5,
      "outputs": [
        {
          "output_type": "stream",
          "name": "stdout",
          "text": [
            "Resolver ax^2 + bx + c = 0\n",
            "Ingresa a, b y c separados por espacio: 1 5 7\n",
            "Dos raices complejas conjugadas:\n",
            "x1 = -2.50000 + 0.86603i\n",
            "x2 = -2.50000 - 0.86603i\n",
            "¿Deseas resolver otra vez? (1 = Si, 0 = No): No\n"
          ]
        }
      ]
    }
  ]
}